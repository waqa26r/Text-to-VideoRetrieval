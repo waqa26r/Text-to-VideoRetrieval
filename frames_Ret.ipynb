{
 "cells": [
  {
   "attachments": {},
   "cell_type": "markdown",
   "metadata": {},
   "source": [
    "## Matched frame then convert to video with extra 50 frames"
   ]
  },
  {
   "cell_type": "code",
   "execution_count": 98,
   "metadata": {},
   "outputs": [],
   "source": [
    "import os\n",
    "import json\n",
    "from collections import Counter\n",
    "import cv2\n",
    "\n",
    "# Load the JSON file containing image data\n",
    "with open('image_frames_full.json', 'r') as file:\n",
    "    image_data = json.load(file)\n",
    "\n",
    "# Function to retrieve frames based on text query and store them in a different path\n",
    "def retrieve_and_store_video_clips(query, destination_path):\n",
    "    matching_frames = []\n",
    "    frequency_counter = Counter()  # Counter to track the frequency of query words in captions\n",
    "\n",
    "    # Count the frequency of query words in captions\n",
    "    for image_info in image_data:\n",
    "        caption = image_info.get('caption')\n",
    "        if caption:\n",
    "            words = caption.lower().split()\n",
    "            frequency_counter.update(words)\n",
    "\n",
    "    # Sort the matching frames based on the frequency count\n",
    "    for image_info in image_data:\n",
    "        caption = image_info.get('caption')\n",
    "        if caption and query.lower() in caption.lower():\n",
    "            frame_path = image_info.get('folder_path') + '\\\\' + f\"frame_{str(image_info.get('frame_id')).zfill(4)}.jpg\"\n",
    "            matching_frames.append(frame_path)\n",
    "\n",
    "    matching_frames.sort(key=lambda frame: sum(frequency_counter[word] for word in query.lower().split()))\n",
    "\n",
    "    # Create the destination folder if it doesn't exist\n",
    "    os.makedirs(destination_path, exist_ok=True)\n",
    "\n",
    "    # Iterate through each image and select additional 50 frames\n",
    "    for image_path in matching_frames:\n",
    "        image_name = os.path.basename(image_path)\n",
    "        image_folder = os.path.dirname(image_path)\n",
    "        image_frames = [image_path]  # Start with the original frame\n",
    "\n",
    "        # Add 50 more frames from the same image folder\n",
    "        image_frame_index = int(image_name.split('_')[-1].split('.')[0])  # Get the frame index from the image name\n",
    "        additional_frames = range(image_frame_index + 1, image_frame_index + 50)\n",
    "        for frame_index in additional_frames:\n",
    "            frame_name = f\"frame_{str(frame_index).zfill(4)}.jpg\"\n",
    "            frame_path = os.path.join(image_folder, frame_name)\n",
    "            if os.path.exists(frame_path):\n",
    "                image_frames.append(frame_path)\n",
    "\n",
    "        # Create a video clip from the selected frames\n",
    "        video_clip_path = os.path.join(destination_path, f\"video_clip_{image_name.split('.')[0]}.mp4\")\n",
    "        create_video_clip(image_frames, video_clip_path)\n",
    "\n",
    "    return destination_path\n",
    "\n",
    "# Function to create a video clip from frames\n",
    "def create_video_clip(frames, output_path):\n",
    "    # Read the first frame to get its dimensions\n",
    "    first_frame = cv2.imread(frames[0])\n",
    "    frame_height, frame_width, _ = first_frame.shape\n",
    "\n",
    "    # Create a VideoWriter object to save the frames as a video\n",
    "    fourcc = cv2.VideoWriter_fourcc(*'mp4v')  # Specify the codec (use appropriate codec for the desired output format)\n",
    "    video_writer = cv2.VideoWriter(output_path, fourcc, 25.0, (frame_width, frame_height))\n",
    "\n",
    "    # Write each frame to the video\n",
    "    for frame_path in frames:\n",
    "        frame = cv2.imread(frame_path)\n",
    "        video_writer.write(frame)\n",
    "\n",
    "    # Release the VideoWriter and close the video file\n",
    "    video_writer.release()\n",
    "\n"
   ]
  },
  {
   "cell_type": "code",
   "execution_count": 102,
   "metadata": {},
   "outputs": [
    {
     "name": "stdout",
     "output_type": "stream",
     "text": [
      "Video clips generated and stored in: C:\\Users\\admin\\Desktop\\SCET_Major\\frmes to json\\Output Videos\n"
     ]
    }
   ],
   "source": [
    "# Example usage:\n",
    "query = \"a man in a band playing drums on stage\"  # Example query, can be a partial match\n",
    "destination_folder = \"C:\\\\Users\\\\admin\\\\Desktop\\\\SCET_Major\\\\frmes to json\\\\Output Videos\"  # Specify the destination folder path\n",
    "retrieve_and_store_video_clips(query, destination_folder)\n",
    "print(\"Video clips generated and stored in:\", destination_folder)\n"
   ]
  },
  {
   "cell_type": "code",
   "execution_count": 103,
   "metadata": {},
   "outputs": [
    {
     "name": "stdout",
     "output_type": "stream",
     "text": [
      "Video clips generated and stored in: C:\\Users\\admin\\Desktop\\SCET_Major\\frmes to json\\db1\n"
     ]
    }
   ],
   "source": [
    "query = \"a collage of photos of a woman with a computer\"  # Example query, can be a partial match\n",
    "destination_folder = \"C:\\\\Users\\\\admin\\\\Desktop\\\\SCET_Major\\\\frmes to json\\\\db1\"  # Specify the destination folder path\n",
    "retrieve_and_store_video_clips(query, destination_folder)\n",
    "print(\"Video clips generated and stored in:\", destination_folder)"
   ]
  },
  {
   "cell_type": "code",
   "execution_count": 104,
   "metadata": {},
   "outputs": [
    {
     "name": "stdout",
     "output_type": "stream",
     "text": [
      "Video clips generated and stored in: C:\\Users\\admin\\Desktop\\SCET_Major\\frmes to json\\db2\n"
     ]
    }
   ],
   "source": [
    "query = \"men in military uniforms standing next to each other\"  # Example query, can be a partial match\n",
    "destination_folder = \"C:\\\\Users\\\\admin\\\\Desktop\\\\SCET_Major\\\\frmes to json\\\\db2\"  # Specify the destination folder path\n",
    "retrieve_and_store_video_clips(query, destination_folder)\n",
    "print(\"Video clips generated and stored in:\", destination_folder)"
   ]
  },
  {
   "cell_type": "code",
   "execution_count": null,
   "metadata": {},
   "outputs": [],
   "source": []
  },
  {
   "cell_type": "code",
   "execution_count": null,
   "metadata": {},
   "outputs": [],
   "source": []
  },
  {
   "cell_type": "code",
   "execution_count": null,
   "metadata": {},
   "outputs": [],
   "source": []
  },
  {
   "attachments": {},
   "cell_type": "markdown",
   "metadata": {},
   "source": [
    "//CONFUISON MATRIX\n",
    "\n",
    "\n"
   ]
  },
  {
   "cell_type": "code",
   "execution_count": null,
   "metadata": {},
   "outputs": [],
   "source": []
  },
  {
   "cell_type": "code",
   "execution_count": 86,
   "metadata": {},
   "outputs": [
    {
     "name": "stdout",
     "output_type": "stream",
     "text": [
      "Confusion Matrix:\n",
      "[[0 0 0 0 0 0]\n",
      " [0 0 0 0 0 0]\n",
      " [0 0 0 0 0 0]\n",
      " [0 0 1 0 0 0]\n",
      " [0 1 0 0 0 0]\n",
      " [1 0 0 0 0 0]]\n",
      "Video clips generated and stored in: C:\\Users\\admin\\Desktop\\SCET_Major\\frmes to json\\Output Videos\n"
     ]
    }
   ],
   "source": [
    "import os\n",
    "import json\n",
    "from collections import Counter\n",
    "import cv2\n",
    "from sklearn.metrics import confusion_matrix\n",
    "\n",
    "# Load the JSON file containing image data\n",
    "with open('image_frames_full.json', 'r') as file:\n",
    "    image_data = json.load(file)\n",
    "\n",
    "# Function to retrieve frames based on text query and store them in a different path\n",
    "def retrieve_and_store_video_clips(query, destination_path, ground_truth_labels, predicted_labels):\n",
    "    matching_frames = []\n",
    "    frequency_counter = Counter()  # Counter to track the frequency of query words in captions\n",
    "\n",
    "    # Count the frequency of query words in captions\n",
    "    for image_info in image_data:\n",
    "        caption = image_info.get('caption')\n",
    "        if caption:\n",
    "            words = caption.lower().split()\n",
    "            frequency_counter.update(words)\n",
    "\n",
    "    # Sort the matching frames based on the frequency count\n",
    "    for image_info in image_data:\n",
    "        caption = image_info.get('caption')\n",
    "        if caption and query.lower() in caption.lower():\n",
    "            frame_path = image_info.get('folder_path') + '\\\\' + f\"frame_{str(image_info.get('frame_id')).zfill(4)}.jpg\"\n",
    "            matching_frames.append(frame_path)\n",
    "\n",
    "    matching_frames.sort(key=lambda frame: sum(frequency_counter[word] for word in query.lower().split()))\n",
    "\n",
    "    # Create the destination folder if it doesn't exist\n",
    "    os.makedirs(destination_path, exist_ok=True)\n",
    "\n",
    "    # Iterate through each image and select additional 20 frames\n",
    "    for image_path, pred_label in zip(matching_frames, predicted_labels):\n",
    "        image_name = os.path.basename(image_path)\n",
    "        image_folder = os.path.dirname(image_path)\n",
    "        image_frames = [image_path]  # Start with the original frame\n",
    "\n",
    "        # Add 50 more frames from the same image folder\n",
    "        image_frame_index = int(image_name.split('_')[-1].split('.')[0])  # Get the frame index from the image name\n",
    "        additional_frames = range(image_frame_index + 1, image_frame_index + 50)\n",
    "        for frame_index in additional_frames:\n",
    "            frame_name = f\"frame_{str(frame_index).zfill(4)}.jpg\"\n",
    "            frame_path = os.path.join(image_folder, frame_name)\n",
    "            if os.path.exists(frame_path):\n",
    "                image_frames.append(frame_path)\n",
    "\n",
    "        # Create a video clip from the selected frames\n",
    "        video_clip_path = os.path.join(destination_path, f\"video_clip_{image_name.split('.')[0]}.mp4\")\n",
    "        create_video_clip(image_frames, video_clip_path)\n",
    "\n",
    "    # Compute confusion matrix\n",
    "    confusion_mat = confusion_matrix(ground_truth_labels, predicted_labels)\n",
    "    print(\"Confusion Matrix:\")\n",
    "    print(confusion_mat)\n",
    "\n",
    "    return destination_path\n",
    "\n",
    "# Function to create a video clip from frames\n",
    "def create_video_clip(frames, output_path):\n",
    "    # Read the first frame to get its dimensions\n",
    "    first_frame = cv2.imread(frames[0])\n",
    "    frame_height, frame_width, _ = first_frame.shape\n",
    "\n",
    "    # Create a VideoWriter object to save the frames as a video\n",
    "    fourcc = cv2.VideoWriter_fourcc(*'mp4v')  # Specify the codec (use appropriate codec for the desired output format)\n",
    "    video_writer = cv2.VideoWriter(output_path, fourcc, 25.0, (frame_width, frame_height))\n",
    "\n",
    "    # Write each frame to the video\n",
    "    for frame_path in frames:\n",
    "        frame = cv2.imread(frame_path)\n",
    "        video_writer.write(frame)\n",
    "\n",
    "    # Release the VideoWriter and close the video file\n",
    "    video_writer.release()\n",
    "\n",
    "\n",
    "# Example usage:\n",
    "query = \"a man in a band playing drums on stage\"  # Example query, can be a partial match\n",
    "destination_folder = \"C:\\\\Users\\\\admin\\\\Desktop\\\\SCET_Major\\\\frmes to json\\\\Output Videos\"  # Specify the destination folder path\n",
    "ground_truth_labels = ['label1', 'label2', 'label3']  # Replace with your actual ground truth labels\n",
    "predicted_labels = ['frame_path', 'frame_id', 'caption']  # Replace with your actual predicted labels\n",
    "retrieve_and_store_video_clips(query, destination_folder, ground_truth_labels, predicted_labels)\n",
    "print(\"Video clips generated and stored in:\", destination_folder)\n"
   ]
  },
  {
   "cell_type": "code",
   "execution_count": null,
   "metadata": {},
   "outputs": [],
   "source": []
  },
  {
   "cell_type": "code",
   "execution_count": 93,
   "metadata": {},
   "outputs": [
    {
     "name": "stdout",
     "output_type": "stream",
     "text": [
      "Confusion Matrix:\n",
      "[[1 0 0]\n",
      " [0 1 0]\n",
      " [0 0 1]]\n"
     ]
    },
    {
     "data": {
      "image/png": "[encoded data removed]",
      "text/plain": [
       "<Figure size 1000x800 with 2 Axes>"
      ]
     },
     "metadata": {},
     "output_type": "display_data"
    },
    {
     "name": "stdout",
     "output_type": "stream",
     "text": [
      "Video clips generated and stored in: C:\\Users\\admin\\Desktop\\SCET_Major\\frmes to json\\Output Videos\n"
     ]
    }
   ],
   "source": [
    "import os\n",
    "import json\n",
    "from collections import Counter\n",
    "import cv2\n",
    "from sklearn.metrics import confusion_matrix\n",
    "import matplotlib.pyplot as plt\n",
    "import numpy as np\n",
    "import itertools\n",
    "\n",
    "\n",
    "# Load the JSON file containing image data\n",
    "with open('image_frames_full.json', 'r') as file:\n",
    "    image_data = json.load(file)\n",
    "\n",
    "# Function to retrieve frames based on text query and store them in a different path\n",
    "def retrieve_and_store_video_clips(query, destination_path, ground_truth_labels, predicted_labels):\n",
    "    matching_frames = []\n",
    "    frequency_counter = Counter()  # Counter to track the frequency of query words in captions\n",
    "\n",
    "    # Count the frequency of query words in captions\n",
    "    for image_info in image_data:\n",
    "        caption = image_info.get('caption')\n",
    "        if caption:\n",
    "            words = caption.lower().split()\n",
    "            frequency_counter.update(words)\n",
    "\n",
    "    # Sort the matching frames based on the frequency count\n",
    "    for image_info in image_data:\n",
    "        caption = image_info.get('caption')\n",
    "        if caption and query.lower() in caption.lower():\n",
    "            frame_path = image_info.get('folder_path') + '\\\\' + f\"frame_{str(image_info.get('frame_id')).zfill(4)}.jpg\"\n",
    "            matching_frames.append(frame_path)\n",
    "\n",
    "    matching_frames.sort(key=lambda frame: sum(frequency_counter[word] for word in query.lower().split()))\n",
    "\n",
    "    # Create the destination folder if it doesn't exist\n",
    "    os.makedirs(destination_path, exist_ok=True)\n",
    "\n",
    "    # Iterate through each image and select additional 20 frames\n",
    "    for image_path, pred_label in zip(matching_frames, predicted_labels):\n",
    "        image_name = os.path.basename(image_path)\n",
    "        image_folder = os.path.dirname(image_path)\n",
    "        image_frames = [image_path]  # Start with the original frame\n",
    "\n",
    "        # Add 50 more frames from the same image folder\n",
    "        image_frame_index = int(image_name.split('_')[-1].split('.')[0])  # Get the frame index from the image name\n",
    "        additional_frames = range(image_frame_index + 1, image_frame_index + 50)\n",
    "        for frame_index in additional_frames:\n",
    "            frame_name = f\"frame_{str(frame_index).zfill(4)}.jpg\"\n",
    "            frame_path = os.path.join(image_folder, frame_name)\n",
    "            if os.path.exists(frame_path):\n",
    "                image_frames.append(frame_path)\n",
    "\n",
    "        # Create a video clip from the selected frames\n",
    "        video_clip_path = os.path.join(destination_path, f\"video_clip_{image_name.split('.')[0]}.mp4\")\n",
    "        create_video_clip(image_frames, video_clip_path)\n",
    "\n",
    "    # Compute confusion matrix\n",
    "    confusion_mat = confusion_matrix(ground_truth_labels, predicted_labels)\n",
    "    print(\"Confusion Matrix:\")\n",
    "    print(confusion_mat)\n",
    "\n",
    "    # Plot confusion matrix as a graph\n",
    "    classes = np.unique(ground_truth_labels + predicted_labels)\n",
    "    plt.figure(figsize=(10, 8))\n",
    "    plt.imshow(confusion_mat, interpolation='nearest', cmap=plt.cm.Blues)\n",
    "    plt.title('Confusion Matrix')\n",
    "    plt.colorbar()\n",
    "    tick_marks = np.arange(len(classes))\n",
    "    plt.xticks(tick_marks, classes, rotation=45)\n",
    "    plt.yticks(tick_marks, classes)\n",
    "\n",
    "    thresh = confusion_mat.max() / 2.\n",
    "    for i, j in itertools.product(range(confusion_mat.shape[0]), range(confusion_mat.shape[1])):\n",
    "        plt.text(j, i, format(confusion_mat[i, j], 'd'),\n",
    "                 horizontalalignment=\"center\",\n",
    "                 color=\"white\" if confusion_mat[i, j] > thresh else \"black\")\n",
    "\n",
    "    plt.ylabel('True label')\n",
    "    plt.xlabel('Predicted label')\n",
    "    plt.tight_layout()\n",
    "    plt.show()\n",
    "\n",
    "    return destination_path\n",
    "\n",
    "# Function to create a video clip from frames\n",
    "def create_video_clip(frames, output_path):\n",
    "    # Read the first frame to get its dimensions\n",
    "    first_frame = cv2.imread(frames[0])\n",
    "    frame_height, frame_width, _ = first_frame.shape\n",
    "\n",
    "    # Create a VideoWriter object to save the frames as a video\n",
    "    fourcc = cv2.VideoWriter_fourcc(*'mp4v')  # Specify the codec (use appropriate codec for the desired output format)\n",
    "    video_writer = cv2.VideoWriter(output_path, fourcc, 25.0, (frame_width, frame_height))\n",
    "\n",
    "    # Write each frame to the video\n",
    "    for frame_path in frames:\n",
    "        frame = cv2.imread(frame_path)\n",
    "        video_writer.write(frame)\n",
    "\n",
    "    # Release the VideoWriter and close the video file\n",
    "    video_writer.release()\n",
    "\n",
    "\n",
    "# Example usage:\n",
    "query = \"a man in a band playing drums on stage\"  # Example query, can be a partial match\n",
    "destination_folder = \"C:\\\\Users\\\\admin\\\\Desktop\\\\SCET_Major\\\\frmes to json\\\\Output Videos\"  # Specify the destination folder path\n",
    "ground_truth_labels = ['frame_path', 'frame_id', 'caption']  # Replace with your actual ground truth labels\n",
    "predicted_labels = ['frame_path', 'frame_id', 'caption']  # Replace with your actual predicted labels\n",
    "retrieve_and_store_video_clips(query, destination_folder, ground_truth_labels, predicted_labels)\n",
    "print(\"Video clips generated and stored in:\", destination_folder)\n"
   ]
  }
 ],
 "metadata": {
  "kernelspec": {
   "display_name": "Python 3",
   "language": "python",
   "name": "python3"
  },
  "language_info": {
   "codemirror_mode": {
    "name": "ipython",
    "version": 3
   },
   "file_extension": ".py",
   "mimetype": "text/x-python",
   "name": "python",
   "nbconvert_exporter": "python",
   "pygments_lexer": "ipython3",
   "version": "3.9.10"
  },
  "orig_nbformat": 4
 },
 "nbformat": 4,
 "nbformat_minor": 2
}
