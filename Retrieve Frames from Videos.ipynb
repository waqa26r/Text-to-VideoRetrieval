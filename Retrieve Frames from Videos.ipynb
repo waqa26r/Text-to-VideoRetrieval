{
 "cells": [
  {
   "attachments": {},
   "cell_type": "markdown",
   "metadata": {},
   "source": [
    "# Retrieve the Frames from the video database"
   ]
  },
  {
   "cell_type": "code",
   "execution_count": null,
   "metadata": {},
   "outputs": [],
   "source": [
    "import os\n",
    "import cv2\n",
    "\n",
    "# specify the directory where the videos are stored\n",
    "videos_dir = \"Dataset\"\n",
    "\n",
    "# specify the directory where the frames will be saved\n",
    "frames_dir = \"Retrieved Frames\"\n",
    "\n",
    "# loop through all the videos in the directory\n",
    "for video_filename in os.listdir(videos_dir):\n",
    "    video_path = os.path.join(videos_dir, video_filename)\n",
    "    \n",
    "    if os.path.isfile(video_path) and (video_filename.endswith(\".mp4\") or video_filename.endswith(\".avi\")):\n",
    "        # read the video file\n",
    "        video = cv2.VideoCapture(video_path)\n",
    "        \n",
    "        # create a directory for the frames of this video\n",
    "        video_name = os.path.splitext(video_filename)[0]\n",
    "        video_frames_dir = os.path.join(frames_dir, video_name)\n",
    "        os.makedirs(video_frames_dir, exist_ok=True)\n",
    "        \n",
    "        # loop through all the frames in the video\n",
    "        frame_count = 0\n",
    "        while True:\n",
    "            success, frame = video.read()\n",
    "            if not success:\n",
    "                break\n",
    "            \n",
    "            # save the frame as an image file\n",
    "            frame_path = os.path.join(video_frames_dir, f\"frame_{frame_count:06d}.jpg\")\n",
    "            cv2.imwrite(frame_path, frame)\n",
    "            \n",
    "            frame_count += 1\n",
    "        \n",
    "        # release the video file\n",
    "        video.release()\n"
   ]
  },
  {
   "attachments": {},
   "cell_type": "markdown",
   "metadata": {},
   "source": [
    "# Preprocess the Frames"
   ]
  },
  {
   "cell_type": "code",
   "execution_count": null,
   "metadata": {},
   "outputs": [],
   "source": [
    "import cv2\n",
    "import numpy as np\n",
    "\n",
    "frames_dir = 'D:\\\\major\\\\MJ23\\\\Frames\\\\video194'\n",
    "\n",
    "# Load frames from the directory\n",
    "frames = []\n",
    "for file_name in os.listdir(frames_dir):\n",
    "    # Read the image and append to the frames list\n",
    "    frame = cv2.imread(os.path.join(frames_dir, file_name))\n",
    "    frames.append(frame)\n",
    "\n",
    "# Define a threshold for similarity\n",
    "mse_threshold = 10  # Adjust this value based on your needs\n",
    "\n",
    "# Calculate the MSE between the frames and store in a dictionary\n",
    "mse_dict = {}\n",
    "for i in range(len(frames)):\n",
    "    for j in range(i + 1, len(frames)):\n",
    "        mse = np.mean((frames[i] - frames[j]) ** 2)\n",
    "        mse_dict[(i, j)] = mse\n",
    "\n",
    "# Identify similar frames and store their indices in a list\n",
    "similar_frames_indices = []\n",
    "for (i, j), mse in mse_dict.items():\n",
    "    if mse < mse_threshold:\n",
    "        similar_frames_indices.append(j)\n",
    "\n",
    "# Convert the list of similar frames indices to a set for efficient deletion\n",
    "similar_frames_indices = set(similar_frames_indices)\n",
    "\n",
    "# Delete similar frames from the original pool of frames\n",
    "filtered_frames = [frame for idx, frame in enumerate(frames) if idx not in similar_frames_indices]"
   ]
  },
  {
   "cell_type": "code",
   "execution_count": null,
   "metadata": {},
   "outputs": [],
   "source": [
    "filtered_frames"
   ]
  },
  {
   "attachments": {},
   "cell_type": "markdown",
   "metadata": {},
   "source": [
    "[array([[[ 0,  0,  0],\n",
    "         [ 0,  0,  0],\n",
    "         [ 0,  0,  0],\n",
    "         ...,\n",
    "         [ 0,  0,  0],\n",
    "         [ 0,  0,  0],\n",
    "         [ 0,  0,  0]],\n",
    " \n",
    "        [[ 0,  0,  0],\n",
    "         [ 0,  0,  0],\n",
    "         [ 0,  0,  0],\n",
    "         ...,\n",
    "         [ 0,  0,  0],\n",
    "         [ 0,  0,  0],\n",
    "         [ 0,  0,  0]],\n",
    " \n",
    "        [[ 0,  0,  0],\n",
    "         [ 0,  0,  0],\n",
    "         [ 0,  0,  0],\n",
    "         ...,\n",
    "         [ 0,  0,  0],\n",
    "         [ 0,  0,  0],\n",
    "         [ 0,  0,  0]],\n",
    " \n",
    "        ...,\n",
    "...\n",
    "         [ 5, 12, 31],\n",
    "         ...,\n",
    "         [ 0,  5,  4],\n",
    "         [ 0,  5,  4],\n",
    "         [ 0,  5,  4]]], dtype=uint8)]\n",
    "\n",
    "         Output is truncated. View as a scrollable element or open in a text editor. Adjust cell output settings...\n"
   ]
  },
  {
   "cell_type": "code",
   "execution_count": null,
   "metadata": {},
   "outputs": [],
   "source": [
    "import cv2\n",
    "import os\n",
    "\n",
    "# Define the directory to save the filtered frames\n",
    "output_dir = 'PreprocessDataset'\n",
    "\n",
    "# Create the output directory if it does not exist\n",
    "if not os.path.exists(output_dir):\n",
    "    os.makedirs(output_dir)\n",
    "\n",
    "# Loop through filtered frames and save them to the output directory\n",
    "for i, frame in enumerate(filtered_frames):\n",
    "    # Define the output file name for the frame\n",
    "    output_file = os.path.join(output_dir, f'filtered_frame_video194_{i+1}.png')  # You can customize the file name format as needed\n",
    "    \n",
    "    # Save the frame as an image file\n",
    "    cv2.imwrite(output_file, frame)\n"
   ]
  }
 ],
 "metadata": {
  "language_info": {
   "name": "python"
  },
  "orig_nbformat": 4
 },
 "nbformat": 4,
 "nbformat_minor": 2
}
